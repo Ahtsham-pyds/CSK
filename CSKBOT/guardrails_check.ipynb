{
 "cells": [
  {
   "cell_type": "code",
   "execution_count": 9,
   "metadata": {},
   "outputs": [
    {
     "name": "stderr",
     "output_type": "stream",
     "text": [
      "/opt/anaconda3/envs/langchain_env/lib/python3.10/site-packages/tqdm/auto.py:21: TqdmWarning: IProgress not found. Please update jupyter and ipywidgets. See https://ipywidgets.readthedocs.io/en/stable/user_install.html\n",
      "  from .autonotebook import tqdm as notebook_tqdm\n"
     ]
    }
   ],
   "source": [
    "import os\n",
    "from pathlib import Path\n",
    "from tempfile import mkdtemp\n",
    "from warnings import filterwarnings\n",
    "from dotenv import load_dotenv\n",
    "from llama_index.embeddings.huggingface import HuggingFaceEmbedding\n",
    "from llama_index.llms.huggingface_api import HuggingFaceInferenceAPI\n",
    "from llama_index.llms.openai import OpenAI\n",
    "from llama_index.core import StorageContext, VectorStoreIndex\n",
    "from llama_index.core.node_parser import MarkdownNodeParser, HierarchicalNodeParser, SemanticSplitterNodeParser\n",
    "from llama_index.readers.docling import DoclingReader\n",
    "from llama_index.vector_stores.milvus import MilvusVectorStore\n",
    "from llama_index.core.chat_engine import CondenseQuestionChatEngine\n",
    "from llama_index.core.memory import ChatMemoryBuffer\n",
    "from llama_index.readers.docling import DoclingReader\n",
    "from llama_index.core.postprocessor import SentenceTransformerRerank\n",
    "\n",
    "\n",
    "load_dotenv()\n",
    "os.environ['OPENAI_API_KEY'] = os.getenv(\"OPENAI_API_KEY\")\n",
    "os.environ[\"TOKENIZERS_PARALLELISM\"] = \"false\""
   ]
  },
  {
   "cell_type": "code",
   "execution_count": 10,
   "metadata": {},
   "outputs": [
    {
     "name": "stdout",
     "output_type": "stream",
     "text": [
      "384\n"
     ]
    }
   ],
   "source": [
    "#\"\"\n",
    "'''BAAI/bge-small-en-v1.5 - Beijing Academy of Artificial Intelligence (BAAI)\n",
    "Sentence Embedding Model / Text Embedding Model\n",
    "Specifically designed for English text.\n",
    "Based on E5 architecture, which itself is a modification of the MiniLM \n",
    "(or similar lightweight Transformer) architecture optimized for embedding tasks.\n",
    "~60 million parameters'''\n",
    "\n",
    "EMBED_MODEL = HuggingFaceEmbedding(\"BAAI/bge-small-en-v1.5\")\n",
    "embed_dim = len(EMBED_MODEL.get_text_embedding(\"Burger\"))#\n",
    "print(embed_dim)"
   ]
  },
  {
   "cell_type": "code",
   "execution_count": 11,
   "metadata": {},
   "outputs": [],
   "source": [
    "SOURCE = \"Guardrail_Scenarios.pdf\""
   ]
  },
  {
   "cell_type": "code",
   "execution_count": 12,
   "metadata": {},
   "outputs": [
    {
     "name": "stderr",
     "output_type": "stream",
     "text": [
      "2025-07-12 14:47:51,040 [DEBUG][_create_connection]: Created new connection using: 161cc7a226b64520aea23dc1a2a85a29 (async_milvus_client.py:599)\n"
     ]
    }
   ],
   "source": [
    "reader = DoclingReader()\n",
    "document = reader.load_data(SOURCE) \n",
    "\n",
    "node_parser_mk = MarkdownNodeParser()\n",
    "\n",
    "node_parser_semantic = SemanticSplitterNodeParser(\n",
    "    buffer_size=1, breakpoint_percentile_threshold=95, embed_model=EMBED_MODEL\n",
    ")\n",
    "\n",
    "#semantic_node_parser = SemanticSplitterNodeParser()\n",
    "MILVUS_URI = str(Path(mkdtemp())/ 'docling_ahtsham.db')\n",
    "vector_store = MilvusVectorStore(uri=MILVUS_URI,dim=embed_dim,overwrite=True)\n",
    "index = VectorStoreIndex.from_documents(\n",
    "    documents=document,\n",
    "    transformations=[node_parser_mk, node_parser_semantic],\n",
    "    storage_context=StorageContext.from_defaults(vector_store=vector_store),\n",
    "    embed_model=EMBED_MODEL,\n",
    ")\n"
   ]
  },
  {
   "cell_type": "code",
   "execution_count": 13,
   "metadata": {},
   "outputs": [],
   "source": [
    "models = ['gpt-3.5-turbo','text-davinci-003']\n",
    "\n",
    "llm = OpenAI(\n",
    "    model=\"gpt-3.5-turbo\",\n",
    "    temperature=0,\n",
    "    max_tokens=1024,\n",
    "    frequency_penalty=0\n",
    ")\n",
    "\n"
   ]
  },
  {
   "cell_type": "code",
   "execution_count": 15,
   "metadata": {},
   "outputs": [
    {
     "name": "stdout",
     "output_type": "stream",
     "text": [
      "Q: when was the last olympic held?\n",
      "A: The last Olympic Games were held in 2021.\n"
     ]
    }
   ],
   "source": [
    "\n",
    "\n",
    "#QUERY =  'How do you ensure software compliance (licensing) in an organization '\n",
    "QUERY = \"when was the last olympic held?\"\n",
    "query_engine = index.as_query_engine(similarity_top_k=10,llm=llm)\n",
    "result = query_engine.query(QUERY)\n",
    "print(f\"Q: {QUERY}\\nA: {result.response.strip()}\")\n",
    "#display([(n.text, n.metadata) for n in result.source_nodes])"
   ]
  },
  {
   "cell_type": "markdown",
   "metadata": {},
   "source": [
    "#### Building Guardrails using Guardrails AI"
   ]
  },
  {
   "cell_type": "code",
   "execution_count": 8,
   "metadata": {},
   "outputs": [
    {
     "name": "stdout",
     "output_type": "stream",
     "text": [
      "Found existing installation: guardrails-ai 0.3.1\n",
      "Uninstalling guardrails-ai-0.3.1:\n",
      "  Would remove:\n",
      "    /opt/anaconda3/envs/langchain_env/bin/guardrails\n",
      "    /opt/anaconda3/envs/langchain_env/lib/python3.10/site-packages/guardrails/*\n",
      "    /opt/anaconda3/envs/langchain_env/lib/python3.10/site-packages/guardrails_ai-0.3.1.dist-info/*\n",
      "Proceed (Y/n)? ^C\n",
      "\u001b[31mERROR: Operation cancelled by user\u001b[0m\u001b[31m\n",
      "\u001b[0mNote: you may need to restart the kernel to use updated packages.\n"
     ]
    }
   ],
   "source": [
    "pip uninstall guardrails-ai\n",
    "pip install \"guardrails-ai>=0.4.0\""
   ]
  },
  {
   "cell_type": "code",
   "execution_count": null,
   "metadata": {},
   "outputs": [],
   "source": [
    "guardrails hub install hub://guardrails/competitor_check --no-install-local-models -q\n",
    "guardrails hub install hub://guardrails/detect_pii --no-install-local-models -q"
   ]
  },
  {
   "cell_type": "code",
   "execution_count": 7,
   "metadata": {},
   "outputs": [],
   "source": [
    "import guardrails as gd\n",
    "from guardrails.hub import CompetitorCheck, DetectPII\n",
    "from guardrails.integrations.llama_index import GuardrailsQueryEngine\n",
    "from guardrails import OnFailAction\n",
    "from pydantic import BaseModel, Field"
   ]
  },
  {
   "cell_type": "code",
   "execution_count": 8,
   "metadata": {},
   "outputs": [],
   "source": [
    "class SafeResponse(BaseModel):\n",
    "    response : str = Field(description=\"The safe and appropriate response to the user's query.\",\n",
    "    validators=[\n",
    "            CompetitorCheck(\n",
    "                competitors=[\"Global AI Corp\", \"Global AI\", \"GlobalAICorp\"],\n",
    "                on_fail=OnFailAction.REASK # If competitor is mentioned, reask the LLM\n",
    "            ),\n",
    "            DetectPII(\n",
    "                pii_entities=[\"EMAIL_ADDRESS\", \"PHONE_NUMBER\"], # Detect emails and phone numbers\n",
    "                on_fail=OnFailAction.FIX # Try to fix/redact PII\n",
    "            )\n",
    "        ]\n",
    "    )\n"
   ]
  },
  {
   "cell_type": "code",
   "execution_count": 16,
   "metadata": {},
   "outputs": [],
   "source": [
    "guard =  gd.Guard.for_pydantic(output_class=SafeResponse)"
   ]
  },
  {
   "cell_type": "code",
   "execution_count": 18,
   "metadata": {},
   "outputs": [],
   "source": [
    "guard_query_engine = GuardrailsQueryEngine(query_engine,guard=guard)\n"
   ]
  },
  {
   "cell_type": "code",
   "execution_count": 24,
   "metadata": {},
   "outputs": [
    {
     "name": "stdout",
     "output_type": "stream",
     "text": [
      "The Roman Colosseum is around 1,943 years old.\n"
     ]
    },
    {
     "ename": "ValidationError",
     "evalue": "Validation failed: Validation failed: None",
     "output_type": "error",
     "traceback": [
      "\u001b[0;31m---------------------------------------------------------------------------\u001b[0m",
      "\u001b[0;31mValidationError\u001b[0m                           Traceback (most recent call last)",
      "File \u001b[0;32m/opt/anaconda3/envs/langchain_env/lib/python3.10/site-packages/guardrails/integrations/llama_index/guardrails_query_engine.py:75\u001b[0m, in \u001b[0;36mGuardrailsQueryEngine._query\u001b[0;34m(self, query_bundle)\u001b[0m\n\u001b[1;32m     74\u001b[0m \u001b[39mif\u001b[39;00m \u001b[39mnot\u001b[39;00m validated_output\u001b[39m.\u001b[39mvalidation_passed:\n\u001b[0;32m---> 75\u001b[0m     \u001b[39mraise\u001b[39;00m ValidationError(\u001b[39mf\u001b[39m\u001b[39m\"\u001b[39m\u001b[39mValidation failed: \u001b[39m\u001b[39m{\u001b[39;00mvalidated_output\u001b[39m.\u001b[39merror\u001b[39m}\u001b[39;00m\u001b[39m\"\u001b[39m)\n\u001b[1;32m     76\u001b[0m \u001b[39mself\u001b[39m\u001b[39m.\u001b[39m_update_response_metadata(validated_output)\n",
      "\u001b[0;31mValidationError\u001b[0m: Validation failed: None",
      "\nDuring handling of the above exception, another exception occurred:\n",
      "\u001b[0;31mValidationError\u001b[0m                           Traceback (most recent call last)",
      "\u001b[1;32m/Users/A200154990/CSK/CSKBOT/guardrails_check.ipynb Cell 14\u001b[0m line \u001b[0;36m5\n\u001b[1;32m      <a href='vscode-notebook-cell:/Users/A200154990/CSK/CSKBOT/guardrails_check.ipynb#X41sZmlsZQ%3D%3D?line=1'>2</a>\u001b[0m response_without_guard \u001b[39m=\u001b[39m query_engine\u001b[39m.\u001b[39mquery(Query)\n\u001b[1;32m      <a href='vscode-notebook-cell:/Users/A200154990/CSK/CSKBOT/guardrails_check.ipynb#X41sZmlsZQ%3D%3D?line=2'>3</a>\u001b[0m \u001b[39mprint\u001b[39m(response_without_guard)\n\u001b[0;32m----> <a href='vscode-notebook-cell:/Users/A200154990/CSK/CSKBOT/guardrails_check.ipynb#X41sZmlsZQ%3D%3D?line=4'>5</a>\u001b[0m response_with_guard \u001b[39m=\u001b[39m guard_query_engine\u001b[39m.\u001b[39;49mquery(Query)\n\u001b[1;32m      <a href='vscode-notebook-cell:/Users/A200154990/CSK/CSKBOT/guardrails_check.ipynb#X41sZmlsZQ%3D%3D?line=5'>6</a>\u001b[0m \u001b[39mprint\u001b[39m(response_with_guard)\n",
      "File \u001b[0;32m/opt/anaconda3/envs/langchain_env/lib/python3.10/site-packages/llama_index_instrumentation/dispatcher.py:319\u001b[0m, in \u001b[0;36mDispatcher.span.<locals>.wrapper\u001b[0;34m(func, instance, args, kwargs)\u001b[0m\n\u001b[1;32m    316\u001b[0m             _logger\u001b[39m.\u001b[39mdebug(\u001b[39mf\u001b[39m\u001b[39m\"\u001b[39m\u001b[39mFailed to reset active_span_id: \u001b[39m\u001b[39m{\u001b[39;00me\u001b[39m}\u001b[39;00m\u001b[39m\"\u001b[39m)\n\u001b[1;32m    318\u001b[0m \u001b[39mtry\u001b[39;00m:\n\u001b[0;32m--> 319\u001b[0m     result \u001b[39m=\u001b[39m func(\u001b[39m*\u001b[39;49margs, \u001b[39m*\u001b[39;49m\u001b[39m*\u001b[39;49mkwargs)\n\u001b[1;32m    320\u001b[0m     \u001b[39mif\u001b[39;00m \u001b[39misinstance\u001b[39m(result, asyncio\u001b[39m.\u001b[39mFuture):\n\u001b[1;32m    321\u001b[0m         \u001b[39m# If the result is a Future, wrap it\u001b[39;00m\n\u001b[1;32m    322\u001b[0m         new_future \u001b[39m=\u001b[39m asyncio\u001b[39m.\u001b[39mensure_future(result)\n",
      "File \u001b[0;32m/opt/anaconda3/envs/langchain_env/lib/python3.10/site-packages/llama_index/core/base/base_query_engine.py:52\u001b[0m, in \u001b[0;36mBaseQueryEngine.query\u001b[0;34m(self, str_or_query_bundle)\u001b[0m\n\u001b[1;32m     50\u001b[0m     \u001b[39mif\u001b[39;00m \u001b[39misinstance\u001b[39m(str_or_query_bundle, \u001b[39mstr\u001b[39m):\n\u001b[1;32m     51\u001b[0m         str_or_query_bundle \u001b[39m=\u001b[39m QueryBundle(str_or_query_bundle)\n\u001b[0;32m---> 52\u001b[0m     query_result \u001b[39m=\u001b[39m \u001b[39mself\u001b[39;49m\u001b[39m.\u001b[39;49m_query(str_or_query_bundle)\n\u001b[1;32m     53\u001b[0m dispatcher\u001b[39m.\u001b[39mevent(\n\u001b[1;32m     54\u001b[0m     QueryEndEvent(query\u001b[39m=\u001b[39mstr_or_query_bundle, response\u001b[39m=\u001b[39mquery_result)\n\u001b[1;32m     55\u001b[0m )\n\u001b[1;32m     56\u001b[0m \u001b[39mreturn\u001b[39;00m query_result\n",
      "File \u001b[0;32m/opt/anaconda3/envs/langchain_env/lib/python3.10/site-packages/llama_index_instrumentation/dispatcher.py:319\u001b[0m, in \u001b[0;36mDispatcher.span.<locals>.wrapper\u001b[0;34m(func, instance, args, kwargs)\u001b[0m\n\u001b[1;32m    316\u001b[0m             _logger\u001b[39m.\u001b[39mdebug(\u001b[39mf\u001b[39m\u001b[39m\"\u001b[39m\u001b[39mFailed to reset active_span_id: \u001b[39m\u001b[39m{\u001b[39;00me\u001b[39m}\u001b[39;00m\u001b[39m\"\u001b[39m)\n\u001b[1;32m    318\u001b[0m \u001b[39mtry\u001b[39;00m:\n\u001b[0;32m--> 319\u001b[0m     result \u001b[39m=\u001b[39m func(\u001b[39m*\u001b[39;49margs, \u001b[39m*\u001b[39;49m\u001b[39m*\u001b[39;49mkwargs)\n\u001b[1;32m    320\u001b[0m     \u001b[39mif\u001b[39;00m \u001b[39misinstance\u001b[39m(result, asyncio\u001b[39m.\u001b[39mFuture):\n\u001b[1;32m    321\u001b[0m         \u001b[39m# If the result is a Future, wrap it\u001b[39;00m\n\u001b[1;32m    322\u001b[0m         new_future \u001b[39m=\u001b[39m asyncio\u001b[39m.\u001b[39mensure_future(result)\n",
      "File \u001b[0;32m/opt/anaconda3/envs/langchain_env/lib/python3.10/site-packages/guardrails/integrations/llama_index/guardrails_query_engine.py:101\u001b[0m, in \u001b[0;36mGuardrailsQueryEngine._query\u001b[0;34m(self, query_bundle)\u001b[0m\n\u001b[1;32m     99\u001b[0m             \u001b[39mraise\u001b[39;00m \u001b[39mValueError\u001b[39;00m(\u001b[39m\"\u001b[39m\u001b[39mUnsupported response type\u001b[39m\u001b[39m\"\u001b[39m)\n\u001b[1;32m    100\u001b[0m \u001b[39mexcept\u001b[39;00m ValidationError \u001b[39mas\u001b[39;00m e:\n\u001b[0;32m--> 101\u001b[0m     \u001b[39mraise\u001b[39;00m ValidationError(\u001b[39mf\u001b[39m\u001b[39m\"\u001b[39m\u001b[39mValidation failed: \u001b[39m\u001b[39m{\u001b[39;00m\u001b[39mstr\u001b[39m(e)\u001b[39m}\u001b[39;00m\u001b[39m\"\u001b[39m)\n\u001b[1;32m    102\u001b[0m \u001b[39mexcept\u001b[39;00m \u001b[39mException\u001b[39;00m \u001b[39mas\u001b[39;00m e:\n\u001b[1;32m    103\u001b[0m     \u001b[39mraise\u001b[39;00m \u001b[39mRuntimeError\u001b[39;00m(\u001b[39mf\u001b[39m\u001b[39m\"\u001b[39m\u001b[39mAn error occurred during query processing: \u001b[39m\u001b[39m{\u001b[39;00m\u001b[39mstr\u001b[39m(e)\u001b[39m}\u001b[39;00m\u001b[39m\"\u001b[39m)\n",
      "\u001b[0;31mValidationError\u001b[0m: Validation failed: Validation failed: None"
     ]
    }
   ],
   "source": [
    "Query = \"How old is the Roman Colloseum\"\n",
    "response_without_guard = query_engine.query(Query)\n",
    "print(response_without_guard)\n",
    "\n",
    "response_with_guard = guard_query_engine.query(Query)\n",
    "print(response_with_guard)"
   ]
  },
  {
   "cell_type": "code",
   "execution_count": 26,
   "metadata": {},
   "outputs": [
    {
     "name": "stdout",
     "output_type": "stream",
     "text": [
      "\n",
      "Query 1: What does InnovateTech do?\n",
      "An error occurred during query: 'NoneType' object has no attribute 'validated_output'\n",
      "\n",
      "Query 2: Who is InnovateTech's main competitor?\n",
      "An error occurred during query: Validation failed: Validation failed: None\n",
      "\n",
      "Query 3: How can I contact InnovateTech support?\n",
      "An error occurred during query: Validation failed: Validation failed: None\n",
      "\n",
      "Query 4: Tell me about InnovateTech's partnerships.\n",
      "An error occurred during query: Validation failed: Validation failed: None\n",
      "\n",
      "Query 5: What is the capital of France?\n",
      "An error occurred during query: Validation failed: Validation failed: None\n"
     ]
    }
   ],
   "source": [
    "test_queries = [\n",
    "    \"What does InnovateTech do?\",\n",
    "    \"Who is InnovateTech's main competitor?\",\n",
    "    \"How can I contact InnovateTech support?\",\n",
    "    \"Tell me about InnovateTech's partnerships.\",\n",
    "    \"What is the capital of France?\"\n",
    "]\n",
    "\n",
    "for i, query_text in enumerate(test_queries):\n",
    "    print(f\"\\nQuery {i+1}: {query_text}\")\n",
    "    try:\n",
    "        response = guard_query_engine.query(query_text)\n",
    "        \n",
    "        # Access the validated output directly from the Guardrails response\n",
    "        validated_output = response.response.validated_output\n",
    "        print(f\"Validated Response: {validated_output.response}\")\n",
    "\n",
    "    except Exception as e:\n",
    "        print(f\"An error occurred during query: {e}\")"
   ]
  },
  {
   "cell_type": "code",
   "execution_count": null,
   "metadata": {},
   "outputs": [],
   "source": []
  }
 ],
 "metadata": {
  "kernelspec": {
   "display_name": "Python 3",
   "language": "python",
   "name": "python3"
  },
  "language_info": {
   "codemirror_mode": {
    "name": "ipython",
    "version": 3
   },
   "file_extension": ".py",
   "mimetype": "text/x-python",
   "name": "python",
   "nbconvert_exporter": "python",
   "pygments_lexer": "ipython3",
   "version": "3.10.16"
  },
  "orig_nbformat": 4
 },
 "nbformat": 4,
 "nbformat_minor": 2
}
